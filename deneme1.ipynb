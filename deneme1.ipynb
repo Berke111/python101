{
 "cells": [
  {
   "cell_type": "code",
   "execution_count": null,
   "metadata": {},
   "outputs": [
    {
     "name": "stdout",
     "output_type": "stream",
     "text": [
      "Closing...\n"
     ]
    }
   ],
   "source": [
    "cola=1\n",
    "chocolate=2\n",
    "x=0\n",
    "isDone = True\n",
    "while isDone\n",
    "if x==cola :\n",
    "    print(\"Take your cola.\") \n",
    "elif x==chocolate :\n",
    "    print(\"Take your chocolate.\")\n",
    "elif x==0 :\n",
    "    print(\"Closing...\")\n",
    "else :\n",
    "    print(\"Please try again.\")\n",
    "\n",
    "while x=\"\n",
    "\n"
   ]
  },
  {
   "cell_type": "markdown",
   "metadata": {},
   "source": [
    "Lambda Functions\n"
   ]
  },
  {
   "cell_type": "code",
   "execution_count": 7,
   "metadata": {},
   "outputs": [
    {
     "name": "stdout",
     "output_type": "stream",
     "text": [
      "Aferin oç\n"
     ]
    }
   ],
   "source": [
    "fn=lambda a,b : print(\"Aferin oç\") if a==5 else print(\"Ahraz oe\") \n",
    "fn(5,5)\n"
   ]
  },
  {
   "cell_type": "markdown",
   "metadata": {},
   "source": [
    "Using Arrays"
   ]
  },
  {
   "cell_type": "code",
   "execution_count": 16,
   "metadata": {},
   "outputs": [
    {
     "name": "stdout",
     "output_type": "stream",
     "text": [
      "['aselsan', 'tarkim', 'dobur']\n",
      "['aselsan', 'tarkim', 'dobur', 'isyatirim']\n",
      "['aselsan', 'ekyo', 'tarkim', 'dobur', 'isyatirim']\n",
      "['ekyo', 'tarkim', 'dobur', 'isyatirim']\n",
      "['isyatirim', 'dobur', 'tarkim', 'ekyo']\n",
      "['isyatirim', 'tarkim', 'dobur', 'ekyo']\n"
     ]
    },
    {
     "data": {
      "text/plain": [
       "['dobur', 'ekyo']"
      ]
     },
     "execution_count": 16,
     "metadata": {},
     "output_type": "execute_result"
    }
   ],
   "source": [
    "hisse1=\"aselsan\"\n",
    "hisse2=\"tarkim\"\n",
    "hisse3=\"dobur\"\n",
    "portfoyum=[hisse1,hisse2,hisse3] \n",
    "print(portfoyum)\n",
    "portfoyum.append(\"isyatirim\")\n",
    "print(portfoyum)\n",
    "portfoyum.insert(1,\"ekyo\")\n",
    "print(portfoyum)\n",
    "portfoyum.remove(\"aselsan\")\n",
    "print(portfoyum)\n",
    "portfoyum.reverse()\n",
    "print(portfoyum)\n",
    "def cu(a) :   \n",
    "    return len(a)\n",
    "portfoyum.sort(key=cu,reverse=True)\n",
    "print(portfoyum)\n",
    "len(portfoyum[1])\n",
    "portfoyum\n",
    "yeniportfoyum=portfoyum[-2::1]\n",
    "yeniportfoyum\n"
   ]
  },
  {
   "cell_type": "markdown",
   "metadata": {},
   "source": [
    "Tuple, Set, List, Dictionary\n"
   ]
  },
  {
   "cell_type": "code",
   "execution_count": 6,
   "metadata": {},
   "outputs": [
    {
     "data": {
      "text/plain": [
       "{'aselsan': 70.02, 'tarkim': 1000.0, 'dobur': 550.5, 'ekgyo': 20.22}"
      ]
     },
     "execution_count": 6,
     "metadata": {},
     "output_type": "execute_result"
    }
   ],
   "source": [
    "portfoyum_tuple=(hisse1,hisse2,hisse3)\n",
    "portfoyum_set={hisse1,hisse2,hisse3}\n",
    "portfoyum_dictionary={hisse1:70.02,hisse2:1000.0, hisse3: 550.5}\n",
    "portfoyum_tuple\n",
    "portfoyum_dictionary[\"ekgyo\"]=20.22\n",
    "portfoyum_dictionary"
   ]
  },
  {
   "cell_type": "markdown",
   "metadata": {},
   "source": []
  }
 ],
 "metadata": {
  "kernelspec": {
   "display_name": "Python 3",
   "language": "python",
   "name": "python3"
  },
  "language_info": {
   "codemirror_mode": {
    "name": "ipython",
    "version": 3
   },
   "file_extension": ".py",
   "mimetype": "text/x-python",
   "name": "python",
   "nbconvert_exporter": "python",
   "pygments_lexer": "ipython3",
   "version": "3.11.9"
  }
 },
 "nbformat": 4,
 "nbformat_minor": 2
}
